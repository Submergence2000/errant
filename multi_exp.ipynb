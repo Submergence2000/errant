{
 "cells": [
  {
   "cell_type": "code",
   "execution_count": 1,
   "metadata": {},
   "outputs": [],
   "source": [
    "import pandas as pd\n",
    "\n",
    "ZH_ORIGINAL = \"multi/chinese_l2_MuCGEC_dev_source_target.tsv\"\n",
    "KO_ORIGINAL = \"multi/korean_l2_source_target.tsv\"\n",
    "\n",
    "with open(ZH_ORIGINAL, \"r\") as f:\n",
    "    zh = f.readlines()\n",
    "\n",
    "with open(KO_ORIGINAL, \"r\") as f:\n",
    "    ko = f.readlines()"
   ]
  },
  {
   "cell_type": "code",
   "execution_count": 2,
   "metadata": {},
   "outputs": [],
   "source": [
    "ZH_TEST_FILE = \"multi/zh_test.txt\"\n",
    "ZH_GOLD_FILE = \"multi/zh_gold.txt\"\n",
    "\n",
    "open(ZH_TEST_FILE, 'w').close()\n",
    "open(ZH_GOLD_FILE, 'w').close()\n",
    "\n",
    "for row in zh:\n",
    "    row = row.split(\"\\t\")\n",
    "    source = row[0].strip()\n",
    "    target = row[1].strip()\n",
    "    if target == \"没有错误\":\n",
    "       target = source\n",
    "    with open(ZH_TEST_FILE, \"a\") as f:\n",
    "        f.write(source + \"\\n\")\n",
    "    with open(ZH_GOLD_FILE, \"a\") as f:\n",
    "        f.write(target + \"\\n\") "
   ]
  },
  {
   "cell_type": "code",
   "execution_count": 3,
   "metadata": {},
   "outputs": [
    {
     "name": "stdout",
     "output_type": "stream",
     "text": [
      "Data validated successfully!\n"
     ]
    }
   ],
   "source": [
    "with open(\"multi/chinese.l2.mucgec.source.txt\") as f1:\n",
    "    lines1 = f1.readlines()\n",
    "    with open(ZH_TEST_FILE) as f2:\n",
    "        lines2 = f2.readlines()\n",
    "        for i in range(len(lines1)):\n",
    "            assert lines1[i].strip() == lines2[i].strip()\n",
    "\n",
    "print(\"Data validated successfully!\")"
   ]
  },
  {
   "cell_type": "code",
   "execution_count": 21,
   "metadata": {},
   "outputs": [],
   "source": [
    "KO_TEST_FILE = \"multi/ko_test.txt\"\n",
    "KO_GOLD_FILE = \"multi/ko_gold.txt\"\n",
    "\n",
    "open(KO_TEST_FILE, 'w').close()\n",
    "open(KO_GOLD_FILE, 'w').close()\n",
    "\n",
    "for row in ko:\n",
    "    row = row.split(\"\\t\")\n",
    "    source = row[0].strip()\n",
    "    target = row[1].strip()\n",
    "    with open(KO_TEST_FILE, \"a\") as f:\n",
    "        f.write(source + \"\\n\")\n",
    "    with open(KO_GOLD_FILE, \"a\") as f:\n",
    "        f.write(target + \"\\n\")"
   ]
  },
  {
   "cell_type": "code",
   "execution_count": 22,
   "metadata": {},
   "outputs": [
    {
     "name": "stdout",
     "output_type": "stream",
     "text": [
      "Data validated successfully!\n"
     ]
    }
   ],
   "source": [
    "with open(\"multi/korean.l2.source.txt\") as f1:\n",
    "    lines1 = f1.readlines()\n",
    "    with open(KO_TEST_FILE) as f2:\n",
    "        lines2 = f2.readlines()\n",
    "        for i in range(len(lines1)):\n",
    "            assert lines1[i].strip() == lines2[i].strip()\n",
    "\n",
    "print(\"Data validated successfully!\")"
   ]
  },
  {
   "cell_type": "code",
   "execution_count": 23,
   "metadata": {},
   "outputs": [
    {
     "name": "stdout",
     "output_type": "stream",
     "text": [
      "Obtaining file:///home/junrui/RA/errant\n",
      "  Preparing metadata (setup.py) ... \u001b[?25ldone\n",
      "\u001b[?25hRequirement already satisfied: rapidfuzz>=3.4.0 in /home/junrui/anaconda3/envs/errant/lib/python3.10/site-packages (from errant==3.0.0) (3.8.1)\n",
      "Installing collected packages: errant\n",
      "  Attempting uninstall: errant\n",
      "    Found existing installation: errant 3.0.0\n",
      "    Uninstalling errant-3.0.0:\n",
      "      Successfully uninstalled errant-3.0.0\n",
      "  Running setup.py develop for errant\n",
      "Successfully installed errant-3.0.0\n",
      "\n",
      "\u001b[1m[\u001b[0m\u001b[34;49mnotice\u001b[0m\u001b[1;39;49m]\u001b[0m\u001b[39;49m A new release of pip is available: \u001b[0m\u001b[31;49m23.3.2\u001b[0m\u001b[39;49m -> \u001b[0m\u001b[32;49m24.0\u001b[0m\n",
      "\u001b[1m[\u001b[0m\u001b[34;49mnotice\u001b[0m\u001b[1;39;49m]\u001b[0m\u001b[39;49m To update, run: \u001b[0m\u001b[32;49mpip install --upgrade pip\u001b[0m\n"
     ]
    }
   ],
   "source": [
    "!pip install -e ."
   ]
  },
  {
   "cell_type": "code",
   "execution_count": 24,
   "metadata": {},
   "outputs": [
    {
     "name": "stdout",
     "output_type": "stream",
     "text": [
      "Loading resources...\n",
      "2024-06-11 03:20:58 INFO: Checking for updates to resources.json in case models have been updated.  Note: this behavior can be turned off with download_method=None or download_method=DownloadMethod.REUSE_RESOURCES\n",
      "Downloading https://raw.githubusercontent.com/stanfordnlp/stanza-resources/main/resources_1.8.0.json: 379kB [00:00, 17.5MB/s]\n",
      "2024-06-11 03:20:58 INFO: Downloaded file to /home/junrui/stanza_resources/resources.json\n",
      "2024-06-11 03:20:58 INFO: Loading these models for language: ko (Korean):\n",
      "==============================\n",
      "| Processor | Package        |\n",
      "------------------------------\n",
      "| tokenize  | kaist          |\n",
      "| pos       | kaist_nocharlm |\n",
      "| lemma     | kaist_nocharlm |\n",
      "| depparse  | kaist_nocharlm |\n",
      "==============================\n",
      "\n",
      "2024-06-11 03:20:58 INFO: Using device: cuda\n",
      "2024-06-11 03:20:58 INFO: Loading: tokenize\n",
      "2024-06-11 03:20:59 INFO: Loading: pos\n",
      "2024-06-11 03:20:59 INFO: Loading: lemma\n",
      "2024-06-11 03:20:59 INFO: Loading: depparse\n",
      "2024-06-11 03:20:59 INFO: Done loading processors!\n",
      "Processing parallel files...\n"
     ]
    }
   ],
   "source": [
    "INITIALIZATION  = True\n",
    "\n",
    "if INITIALIZATION:\n",
    "    !rm -rf multi/zh_gold.m2\n",
    "    !python errant/commands/parallel_to_m2.py -orig {ZH_TEST_FILE} -cor {ZH_GOLD_FILE} -out multi/zh_gold.m2 -lang zh\n",
    "    !rm -rf multi/ko_gold.m2\n",
    "    !python errant/commands/parallel_to_m2.py -orig {KO_TEST_FILE} -cor {KO_GOLD_FILE} -out multi/ko_gold.m2 -lang ko\n",
    "    !rm -rf multi/zh_test.m2\n",
    "    !python errant/commands/parallel_to_m2.py -orig {ZH_TEST_FILE} -cor multi/chinese.l2.mucgec.target.txt -out multi/zh_test.m2 -lang zh\n",
    "    !rm -rf multi/ko_test.m2\n",
    "    !python errant/commands/parallel_to_m2.py -orig {KO_TEST_FILE} -cor multi/korean.l2.target.txt -out multi/ko_test.m2 -lang ko"
   ]
  },
  {
   "cell_type": "code",
   "execution_count": 25,
   "metadata": {},
   "outputs": [
    {
     "name": "stdout",
     "output_type": "stream",
     "text": [
      "\n",
      "=========== Span-Based Correction ============\n",
      "TP\tFP\tFN\tPrec\tRec\tF0.5\n",
      "788\t2215\t3765\t0.2624\t0.1731\t0.2379\n",
      "==============================================\n",
      "\n",
      "\n",
      "=========== Span-Based Correction ============\n",
      "TP\tFP\tFN\tPrec\tRec\tF0.5\n",
      "3187\t2212\t5090\t0.5903\t0.385\t0.5334\n",
      "==============================================\n",
      "\n"
     ]
    }
   ],
   "source": [
    "!python errant/commands/compare_m2.py -hyp multi/zh_test.m2 -ref multi/zh_gold.m2\n",
    "!python errant/commands/compare_m2.py -hyp multi/ko_test.m2 -ref multi/ko_gold.m2"
   ]
  }
 ],
 "metadata": {
  "kernelspec": {
   "display_name": "errant",
   "language": "python",
   "name": "python3"
  },
  "language_info": {
   "codemirror_mode": {
    "name": "ipython",
    "version": 3
   },
   "file_extension": ".py",
   "mimetype": "text/x-python",
   "name": "python",
   "nbconvert_exporter": "python",
   "pygments_lexer": "ipython3",
   "version": "3.10.13"
  }
 },
 "nbformat": 4,
 "nbformat_minor": 2
}
