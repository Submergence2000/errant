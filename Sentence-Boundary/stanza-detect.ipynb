{
 "cells": [
  {
   "cell_type": "code",
   "execution_count": 1,
   "metadata": {},
   "outputs": [],
   "source": [
    "file_paths = ['dev.bea19.origin.txt', \"A.dev.bea19.origin.txt\", \"B.dev.bea19.origin.txt\", \"C.dev.bea19.origin.txt\"]\n",
    "for file_path in file_paths:\n",
    "    with open(file_path, 'r') as file:\n",
    "        content = file.read()\n",
    "\n",
    "    modified_content = content.replace('\\n', ' ')\n",
    "\n",
    "    new_file_path = file_path.replace('origin', 'sb')\n",
    "    with open(new_file_path, 'w') as new_file:\n",
    "        new_file.write(modified_content)"
   ]
  },
  {
   "cell_type": "code",
   "execution_count": 2,
   "metadata": {},
   "outputs": [
    {
     "name": "stderr",
     "output_type": "stream",
     "text": [
      "/home/junrui/anaconda3/envs/errant/lib/python3.10/site-packages/tqdm/auto.py:21: TqdmWarning: IProgress not found. Please update jupyter and ipywidgets. See https://ipywidgets.readthedocs.io/en/stable/user_install.html\n",
      "  from .autonotebook import tqdm as notebook_tqdm\n"
     ]
    }
   ],
   "source": [
    "import stanza"
   ]
  },
  {
   "cell_type": "code",
   "execution_count": 3,
   "metadata": {},
   "outputs": [
    {
     "name": "stderr",
     "output_type": "stream",
     "text": [
      "2024-02-29 19:46:43 INFO: Checking for updates to resources.json in case models have been updated.  Note: this behavior can be turned off with download_method=None or download_method=DownloadMethod.REUSE_RESOURCES\n",
      "Downloading https://raw.githubusercontent.com/stanfordnlp/stanza-resources/main/resources_1.8.0.json: 373kB [00:00, 17.2MB/s]                    \n",
      "2024-02-29 19:46:43 INFO: Downloaded file to /home/junrui/stanza_resources/resources.json\n",
      "2024-02-29 19:46:44 INFO: Loading these models for language: en (English):\n",
      "============================================\n",
      "| Processor    | Package                   |\n",
      "--------------------------------------------\n",
      "| tokenize     | combined                  |\n",
      "| mwt          | combined                  |\n",
      "| pos          | combined_charlm           |\n",
      "| lemma        | combined_nocharlm         |\n",
      "| constituency | ptb3-revised_charlm       |\n",
      "| depparse     | combined_charlm           |\n",
      "| sentiment    | sstplus_charlm            |\n",
      "| ner          | ontonotes-ww-multi_charlm |\n",
      "============================================\n",
      "\n",
      "2024-02-29 19:46:44 INFO: Using device: cuda\n",
      "2024-02-29 19:46:44 INFO: Loading: tokenize\n",
      "2024-02-29 19:46:44 INFO: Loading: mwt\n",
      "2024-02-29 19:46:44 INFO: Loading: pos\n",
      "2024-02-29 19:46:45 INFO: Loading: lemma\n",
      "2024-02-29 19:46:45 INFO: Loading: constituency\n",
      "2024-02-29 19:46:45 INFO: Loading: depparse\n",
      "2024-02-29 19:46:45 INFO: Loading: sentiment\n",
      "2024-02-29 19:46:45 INFO: Loading: ner\n",
      "2024-02-29 19:46:46 INFO: Done loading processors!\n"
     ]
    }
   ],
   "source": [
    "nlp = stanza.Pipeline('en')"
   ]
  },
  {
   "cell_type": "code",
   "execution_count": 4,
   "metadata": {},
   "outputs": [],
   "source": [
    "for file_path in file_paths:\n",
    "    with open(file_path.replace(\"origin\", \"sb\"), 'r') as file:\n",
    "        content = file.read()\n",
    "\n",
    "    doc = nlp(content)\n",
    "    \n",
    "    with open(file_path.replace(\"origin\", \"stanza\"), 'w') as file:\n",
    "        for sent in doc.sentences:\n",
    "            file.write(sent.text + '\\n')"
   ]
  }
 ],
 "metadata": {
  "kernelspec": {
   "display_name": "errant",
   "language": "python",
   "name": "python3"
  },
  "language_info": {
   "codemirror_mode": {
    "name": "ipython",
    "version": 3
   },
   "file_extension": ".py",
   "mimetype": "text/x-python",
   "name": "python",
   "nbconvert_exporter": "python",
   "pygments_lexer": "ipython3",
   "version": "3.10.13"
  }
 },
 "nbformat": 4,
 "nbformat_minor": 2
}
