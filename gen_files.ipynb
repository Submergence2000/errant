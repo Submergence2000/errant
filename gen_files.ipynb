{
 "cells": [
  {
   "cell_type": "code",
   "execution_count": 1,
   "metadata": {},
   "outputs": [
    {
     "name": "stdout",
     "output_type": "stream",
     "text": [
      "dev_txt  gold_m2  gp2ft_m2\n"
     ]
    }
   ],
   "source": [
    "RESULTS_DIR = \"../prompting-gec/coling2024-results/\"\n",
    "DEV_SET_LIST = ['A', 'B', 'C', 'N']\n",
    "!ls {RESULTS_DIR}"
   ]
  },
  {
   "cell_type": "code",
   "execution_count": 2,
   "metadata": {},
   "outputs": [
    {
     "name": "stdout",
     "output_type": "stream",
     "text": [
      "Obtaining file:///home/junrui/RA/errant\n",
      "  Preparing metadata (setup.py) ... \u001b[?25ldone\n",
      "\u001b[?25hRequirement already satisfied: spacy<4,>=3.2.0 in /home/junrui/anaconda3/envs/errant/lib/python3.10/site-packages (from errant==3.0.0) (3.7.2)\n",
      "Requirement already satisfied: rapidfuzz>=3.4.0 in /home/junrui/anaconda3/envs/errant/lib/python3.10/site-packages (from errant==3.0.0) (3.5.2)\n",
      "Requirement already satisfied: spacy-legacy<3.1.0,>=3.0.11 in /home/junrui/anaconda3/envs/errant/lib/python3.10/site-packages (from spacy<4,>=3.2.0->errant==3.0.0) (3.0.12)\n",
      "Requirement already satisfied: spacy-loggers<2.0.0,>=1.0.0 in /home/junrui/anaconda3/envs/errant/lib/python3.10/site-packages (from spacy<4,>=3.2.0->errant==3.0.0) (1.0.4)\n",
      "Requirement already satisfied: murmurhash<1.1.0,>=0.28.0 in /home/junrui/anaconda3/envs/errant/lib/python3.10/site-packages (from spacy<4,>=3.2.0->errant==3.0.0) (1.0.7)\n",
      "Requirement already satisfied: cymem<2.1.0,>=2.0.2 in /home/junrui/anaconda3/envs/errant/lib/python3.10/site-packages (from spacy<4,>=3.2.0->errant==3.0.0) (2.0.6)\n",
      "Requirement already satisfied: preshed<3.1.0,>=3.0.2 in /home/junrui/anaconda3/envs/errant/lib/python3.10/site-packages (from spacy<4,>=3.2.0->errant==3.0.0) (3.0.6)\n",
      "Requirement already satisfied: thinc<8.3.0,>=8.1.8 in /home/junrui/anaconda3/envs/errant/lib/python3.10/site-packages (from spacy<4,>=3.2.0->errant==3.0.0) (8.2.2)\n",
      "Requirement already satisfied: wasabi<1.2.0,>=0.9.1 in /home/junrui/anaconda3/envs/errant/lib/python3.10/site-packages (from spacy<4,>=3.2.0->errant==3.0.0) (0.9.1)\n",
      "Requirement already satisfied: srsly<3.0.0,>=2.4.3 in /home/junrui/anaconda3/envs/errant/lib/python3.10/site-packages (from spacy<4,>=3.2.0->errant==3.0.0) (2.4.8)\n",
      "Requirement already satisfied: catalogue<2.1.0,>=2.0.6 in /home/junrui/anaconda3/envs/errant/lib/python3.10/site-packages (from spacy<4,>=3.2.0->errant==3.0.0) (2.0.10)\n",
      "Requirement already satisfied: weasel<0.4.0,>=0.1.0 in /home/junrui/anaconda3/envs/errant/lib/python3.10/site-packages (from spacy<4,>=3.2.0->errant==3.0.0) (0.3.4)\n",
      "Requirement already satisfied: typer<0.10.0,>=0.3.0 in /home/junrui/anaconda3/envs/errant/lib/python3.10/site-packages (from spacy<4,>=3.2.0->errant==3.0.0) (0.9.0)\n",
      "Requirement already satisfied: smart-open<7.0.0,>=5.2.1 in /home/junrui/anaconda3/envs/errant/lib/python3.10/site-packages (from spacy<4,>=3.2.0->errant==3.0.0) (5.2.1)\n",
      "Requirement already satisfied: tqdm<5.0.0,>=4.38.0 in /home/junrui/anaconda3/envs/errant/lib/python3.10/site-packages (from spacy<4,>=3.2.0->errant==3.0.0) (4.65.0)\n",
      "Requirement already satisfied: requests<3.0.0,>=2.13.0 in /home/junrui/anaconda3/envs/errant/lib/python3.10/site-packages (from spacy<4,>=3.2.0->errant==3.0.0) (2.31.0)\n",
      "Requirement already satisfied: pydantic!=1.8,!=1.8.1,<3.0.0,>=1.7.4 in /home/junrui/anaconda3/envs/errant/lib/python3.10/site-packages (from spacy<4,>=3.2.0->errant==3.0.0) (1.10.12)\n",
      "Requirement already satisfied: jinja2 in /home/junrui/anaconda3/envs/errant/lib/python3.10/site-packages (from spacy<4,>=3.2.0->errant==3.0.0) (3.1.2)\n",
      "Requirement already satisfied: setuptools in /home/junrui/anaconda3/envs/errant/lib/python3.10/site-packages (from spacy<4,>=3.2.0->errant==3.0.0) (69.0.3)\n",
      "Requirement already satisfied: packaging>=20.0 in /home/junrui/anaconda3/envs/errant/lib/python3.10/site-packages (from spacy<4,>=3.2.0->errant==3.0.0) (23.1)\n",
      "Requirement already satisfied: langcodes<4.0.0,>=3.2.0 in /home/junrui/anaconda3/envs/errant/lib/python3.10/site-packages (from spacy<4,>=3.2.0->errant==3.0.0) (3.3.0)\n",
      "Requirement already satisfied: numpy>=1.19.0 in /home/junrui/anaconda3/envs/errant/lib/python3.10/site-packages (from spacy<4,>=3.2.0->errant==3.0.0) (1.26.3)\n",
      "Requirement already satisfied: typing-extensions>=4.2.0 in /home/junrui/anaconda3/envs/errant/lib/python3.10/site-packages (from pydantic!=1.8,!=1.8.1,<3.0.0,>=1.7.4->spacy<4,>=3.2.0->errant==3.0.0) (4.9.0)\n",
      "Requirement already satisfied: charset-normalizer<4,>=2 in /home/junrui/anaconda3/envs/errant/lib/python3.10/site-packages (from requests<3.0.0,>=2.13.0->spacy<4,>=3.2.0->errant==3.0.0) (2.0.4)\n",
      "Requirement already satisfied: idna<4,>=2.5 in /home/junrui/anaconda3/envs/errant/lib/python3.10/site-packages (from requests<3.0.0,>=2.13.0->spacy<4,>=3.2.0->errant==3.0.0) (3.4)\n",
      "Requirement already satisfied: urllib3<3,>=1.21.1 in /home/junrui/anaconda3/envs/errant/lib/python3.10/site-packages (from requests<3.0.0,>=2.13.0->spacy<4,>=3.2.0->errant==3.0.0) (1.26.18)\n",
      "Requirement already satisfied: certifi>=2017.4.17 in /home/junrui/anaconda3/envs/errant/lib/python3.10/site-packages (from requests<3.0.0,>=2.13.0->spacy<4,>=3.2.0->errant==3.0.0) (2023.11.17)\n",
      "Requirement already satisfied: blis<0.8.0,>=0.7.8 in /home/junrui/anaconda3/envs/errant/lib/python3.10/site-packages (from thinc<8.3.0,>=8.1.8->spacy<4,>=3.2.0->errant==3.0.0) (0.7.9)\n",
      "Requirement already satisfied: confection<1.0.0,>=0.0.1 in /home/junrui/anaconda3/envs/errant/lib/python3.10/site-packages (from thinc<8.3.0,>=8.1.8->spacy<4,>=3.2.0->errant==3.0.0) (0.1.4)\n",
      "Requirement already satisfied: click<9.0.0,>=7.1.1 in /home/junrui/anaconda3/envs/errant/lib/python3.10/site-packages (from typer<0.10.0,>=0.3.0->spacy<4,>=3.2.0->errant==3.0.0) (8.1.7)\n",
      "Requirement already satisfied: cloudpathlib<0.17.0,>=0.7.0 in /home/junrui/anaconda3/envs/errant/lib/python3.10/site-packages (from weasel<0.4.0,>=0.1.0->spacy<4,>=3.2.0->errant==3.0.0) (0.16.0)\n",
      "Requirement already satisfied: MarkupSafe>=2.0 in /home/junrui/anaconda3/envs/errant/lib/python3.10/site-packages (from jinja2->spacy<4,>=3.2.0->errant==3.0.0) (2.1.3)\n",
      "Installing collected packages: errant\n",
      "  Attempting uninstall: errant\n",
      "    Found existing installation: errant 3.0.0\n",
      "    Uninstalling errant-3.0.0:\n",
      "      Successfully uninstalled errant-3.0.0\n",
      "  Running setup.py develop for errant\n",
      "Successfully installed errant-3.0.0\n"
     ]
    }
   ],
   "source": [
    "!pip install -e ."
   ]
  },
  {
   "cell_type": "code",
   "execution_count": 3,
   "metadata": {},
   "outputs": [
    {
     "name": "stdout",
     "output_type": "stream",
     "text": [
      "**************************************************\n",
      "../prompting-gec/coling2024-results/dev_txt/A.dev.bea19.txt\n",
      "**************************************************\n",
      "It 's difficult answer at the question \" what are you going to do in the future ? \" if the only one who has to know it is in two minds .\n",
      "When I was younger I used to say that I wanted to be a teacher , a saleswoman and even a butcher .. I do n't know why .\n",
      "I would like to study Psychology because one day I would open my own psychology office and help people .\n",
      "It 's difficult because I 'll have to study hard and a lot , but I think that if you like a subject , you 'll study it easier .\n",
      "Maybe I 'll change my mind , maybe not .\n",
      "I think that the public transport will always be in the future .\n",
      "The rich people will buy a car but the poor people always need to use a bus or taxi .\n",
      "I consider that is more convenient to drive a car because you carry on more things in your own car than travelling by car .\n",
      "Also , you 'll meet friendly people who usually ask to you something to be friends and change your telephone number .\n",
      "In my experience when I did n't have a car I used to use the bus to go to the school and go back to my house .\n",
      "**************************************************\n",
      "../prompting-gec/coling2024-results/dev_txt/B.dev.bea19.txt\n",
      "**************************************************\n",
      "Dear Paul !\n",
      "I haven't written you for ages but I was very busy because of the exams at the University .\n",
      "What about you?What 's new in Brazil?As you know , my friend John asked me to help him with the organization at the concert , which was performed last month .\n",
      "So I was there something like staff .\n",
      "My work consisted of making press advertising , providing all ticket , food for musicians and things like that .\n",
      "I got two free V.I.P tickets , so I took my girlfriend and we were there together .\n",
      "When the concert finished , we went to cloakroom to get signatures from musicians .\n",
      "I felt like a star!Crowded of people were waiting in front of the cloakroom for the signatures , but only me and my sweety girlfriend got them .\n",
      "People were so envious ... I liked it!It was fantastic experience .\n",
      "Next time I would like to do something similar and you should try it as well . You will earn nice money and you have cultural experience .\n",
      "**************************************************\n",
      "../prompting-gec/coling2024-results/dev_txt/C.dev.bea19.txt\n",
      "**************************************************\n",
      "Dear Mrs. Ashby ,\n",
      "Yesterday I was in Green Pepper Cafe for a meal with colleagues and I have seen the advertisement for a job at weekends in your cafe .\n",
      "I am very interested in this work and believe that my employment background is appropriate for it .\n",
      "I am a Tourism student and I need to work at weekends to pay my studies .\n",
      "I have worked one year in London as waiter in Hard Rock Cafe and 6 months as waiter also in Barcomi 's Cafe in Berlin .\n",
      "So I have experience in service , costumer care and working long hours .\n",
      "I Know how to prepare different kinds of food : sandwiches , fish and fries , hamburgers , Italian pasta , etc\n",
      "I am also very good at dealing with people , I have never had a complaint sheet !\n",
      "I have total availability at weekends and also in summer .\n",
      "I speak Spanish , English and German .\n",
      "**************************************************\n",
      "../prompting-gec/coling2024-results/dev_txt/N.dev.bea19.txt\n",
      "**************************************************\n",
      "Boxing is a common , well known and well loved sport amongst most countries in the world however it is also punishing , dangerous and disliked to the extent that many people want it banned , possibly with good reason .\n",
      "Boxing is a dangerous sport , there are relatively common deaths , tragic injuries and even disease .\n",
      "All professional boxers are at risk from being killed in his next fight .\n",
      "If not killed then more likely paralysed .\n",
      "There have been a number of cases in the last ten years of the top few boxers having tragic losses throughout their ranks .\n",
      "This is just from the elite few , and there s more from those below them .\n",
      "More deaths would occur through boxing if it were banned .\n",
      "The sport would go underground , there would be no safety measures like gloves , a doctor , paramedics or early stopping of the fight if someone looked unable to continue .\n",
      "With this going on the people taking part will be dangerous , and on the streets .\n",
      "Dangerous dogs who were trained to kill and maim in similar underound dog fights have already proved deadly to innocent people , the new boxers could be even more at risk .\n"
     ]
    }
   ],
   "source": [
    "for DEV_SET_ID in DEV_SET_LIST:\n",
    "    !rm -rf {RESULTS_DIR}dev_txt/{DEV_SET_ID}.dev.bea19.txt\n",
    "    !python errant/commands/rev_from_m2.py {RESULTS_DIR}gold_m2/{DEV_SET_ID}.dev.gold.bea19.m2 -out {RESULTS_DIR}dev_txt/{DEV_SET_ID}.dev.bea19.txt\n",
    "    print('*'*50, f\"{RESULTS_DIR}dev_txt/{DEV_SET_ID}.dev.bea19.txt\", '*'*50, sep='\\n')\n",
    "    !head {RESULTS_DIR}dev_txt/{DEV_SET_ID}.dev.bea19.txt"
   ]
  },
  {
   "cell_type": "code",
   "execution_count": 4,
   "metadata": {},
   "outputs": [
    {
     "name": "stdout",
     "output_type": "stream",
     "text": [
      "**************************************************\n",
      "../prompting-gec/coling2024-results/gold_m2/A.dev.gold.bea19.txt\n",
      "**************************************************\n",
      "It 's difficult to answer the question \" what are you going to do in the future ? \" if the only one who has to know it is in two minds .\n",
      "When I was younger , I used to say that I wanted to be a teacher , a saleswoman and even a butcher . I do n't know why .\n",
      "I would like to study Psychology , because one day I would like to open my own psychology clinic and help people .\n",
      "It 's difficult because I 'll have to study hard and a lot , but I think that if you like a subject , you 'll study it more easily .\n",
      "Maybe I 'll change my mind , maybe not .\n",
      "I think that public transport will always exist in the future .\n",
      "Rich people will buy a car , but poor people always need to use a bus or taxi .\n",
      "I consider it more convenient to drive a car , because you carry more things in your own car than when travelling by car .\n",
      "Also , you 'll meet friendly people who usually ask you to be friends and exchange telephone numbers .\n",
      "In my experience , when I did n't have a car I used to use the bus to go to school and go back to my house .\n",
      "**************************************************\n",
      "../prompting-gec/coling2024-results/gold_m2/B.dev.gold.bea19.txt\n",
      "**************************************************\n",
      "Dear Paul !\n",
      "I haven't written to you for ages because I was very busy because of the exams at University .\n",
      "What about you ? What 's new in Brazil ? As you know , my friend John asked me to help him with the organization of a concert which was held last month .\n",
      "So I was there as something like a member of staff .\n",
      "My work consisted of making press advertising , providing all the tickets , food for musicians and things like that .\n",
      "I got two free V.I.P tickets , so I took my girlfriend and we were there together .\n",
      "When the concert finished , we went to the dressing room to get autographs from musicians .\n",
      "I felt like a star ! Crowds of people were waiting in front of the dressing room for autographs , but only me and my sweet girlfriend got them .\n",
      "People were so envious ... I liked it ! It was a fantastic experience .\n",
      "Next time , I would like to do something similar and you should try it as well . You will earn good money and you have a cultural experience .\n",
      "**************************************************\n",
      "../prompting-gec/coling2024-results/gold_m2/C.dev.gold.bea19.txt\n",
      "**************************************************\n",
      "Dear Mrs. Ashby ,\n",
      "Yesterday I was in Green Pepper Cafe for a meal with colleagues and I saw the advertisement for a job at weekends in your cafe .\n",
      "I am very interested in this work and believe that my employment background is appropriate for it .\n",
      "I am a Tourism student and I need to work at weekends to pay for my studies .\n",
      "I have worked for one year in London as a waiter in the Hard Rock Cafe and 6 months as a waiter also in Barcomi 's Cafe in Berlin .\n",
      "So I have experience of service , costumer care and working long hours .\n",
      "I know how to prepare different kinds of food : sandwiches , fish and chips , hamburgers , Italian pasta , etc\n",
      "I am also very good at dealing with people , I have never had a complaint sheet !\n",
      "I have total availability at weekends and also in summer .\n",
      "I speak Spanish , English and German .\n",
      "**************************************************\n",
      "../prompting-gec/coling2024-results/gold_m2/N.dev.gold.bea19.txt\n",
      "**************************************************\n",
      "Boxing is a common , well - known and well - loved sport in most countries in the world . However , it is also punishing , dangerous and disliked to the extent that many people want it banned , possibly with good reason .\n",
      "Boxing is a dangerous sport . There are relatively common deaths , tragic injuries and even disease .\n",
      "All professional boxers are at risk from being killed in their next fight .\n",
      "If not killed , then more likely paralysed .\n",
      "There have been a number of cases in the last ten years of the top few boxers having tragic losses among their ranks .\n",
      "This is just from the elite few , and there 's more from those below them .\n",
      "More deaths would occur through boxing if it were banned .\n",
      "The sport would go underground , and there would be no safety measures like gloves , a doctor , paramedics or early stopping of the fight if someone looked unable to continue .\n",
      "With this going on , the people taking part will be dangerous , and on the streets .\n",
      "Dangerous dogs who were trained to kill and maim in similar underground dog fights have already proved deadly to innocent people . The new boxers could be even more at risk .\n"
     ]
    }
   ],
   "source": [
    "for DEV_SET_ID in DEV_SET_LIST:\n",
    "    !rm -rf {RESULTS_DIR}gold_m2/{DEV_SET_ID}.dev.gold.bea19.txt\n",
    "    !python errant/commands/corr_from_m2.py {RESULTS_DIR}gold_m2/{DEV_SET_ID}.dev.gold.bea19.m2 -out {RESULTS_DIR}gold_m2/{DEV_SET_ID}.dev.gold.bea19.txt\n",
    "    print('*'*50, f\"{RESULTS_DIR}gold_m2/{DEV_SET_ID}.dev.gold.bea19.txt\", '*'*50, sep='\\n')\n",
    "    !head {RESULTS_DIR}gold_m2/{DEV_SET_ID}.dev.gold.bea19.txt"
   ]
  },
  {
   "cell_type": "code",
   "execution_count": 5,
   "metadata": {},
   "outputs": [
    {
     "name": "stdout",
     "output_type": "stream",
     "text": [
      "**************************************************\n",
      "../prompting-gec/coling2024-results/gp2ft_m2/outputs_A_ft_gpt2_xl_0.txt\n",
      "**************************************************\n",
      "It 's difficult to answer this question \" what are you going to do in the future ? \" if the only person who has to know it is two minds .\n",
      "When I was younger , I used to say that I wanted to be a teacher , a salesperson and even a butcher .\n",
      "I would like to study Psychology because one day I would open my own psychology office and help people .\n",
      "It 's difficult because I 'll have to study hard and a lot , but I think that if you like a subject , you 'll study it easier .\n",
      "Maybe I 'll change my mind , maybe not .\n",
      "I think that public transport will always be in the future .\n",
      "The rich people will buy a car , but the poor people always need to use a bus or taxi .\n",
      "I consider that it is more convenient to drive a car because you carry more things in your own car than by travelling by car .\n",
      "Also , you 'll meet friendly people who usually ask you for something to be friends and change your telephone number .\n",
      "In my experience , when I did n't have a car , I used to use the bus to go to school and go back to my house .\n",
      "**************************************************\n",
      "../prompting-gec/coling2024-results/gp2ft_m2/outputs_B_ft_gpt2_xl_0.txt\n",
      "**************************************************\n",
      "Dear Paul !\n",
      "I have n't written to you for ages but I was very busy because of the exams at university .\n",
      "What about you ? What 's new in Brazil ? As you know , my friend John asked me to help him with the organization of the concert , which was performed last month .\n",
      "So I was there something like staff .\n",
      "My work consisted of making press advertisements , providing all the tickets , food for the musicians and things like that .\n",
      "I got two free V.I.P tickets , so I took my girlfriend and we were there together .\n",
      "When the concert finished , we went to the cloakroom to get signatures from the musicians .\n",
      "I felt like a star ! Crowded with people were waiting in front of the door for the signatures , but only me and my little cousin got them .\n",
      "People were so envious ... I liked it ! It was a fantastic experience .\n",
      "Next time I would like to do something similar , and you should try it as well . You will earn nice money and you have cultural experience .\n",
      "**************************************************\n",
      "../prompting-gec/coling2024-results/gp2ft_m2/outputs_C_ft_gpt2_xl_0.txt\n",
      "**************************************************\n",
      "Dear Mrs. Ashby ,\n",
      "Yesterday , I was at Green Pepper Cafe for a meal with colleagues and I saw the advertisement for a job at weekends in your cafe .\n",
      "I am very interested in this work and believe that my employment background is appropriate for it .\n",
      "I am a tourism student and I need to work at weekends to pay for my studies .\n",
      "I worked one year in London as a waiter at Hard Rock Cafe and 6 months as a waiter as well in Barcomi 's Cafe in Berlin .\n",
      "So I have experience of service , customer care and working long hours .\n",
      "I know how to prepare different kinds of food : sandwiches , fish and fries , hamburgers , Italian pasta , etc .\n",
      "I am also very good at dealing with people . I have never had a complaint sheet !\n",
      "I have total availability at weekends and also in summer .\n",
      "I speak Spanish , English and German .\n"
     ]
    }
   ],
   "source": [
    "for DEV_SET_ID in DEV_SET_LIST:\n",
    "    if DEV_SET_ID == 'N':\n",
    "        continue\n",
    "    !rm -rf {RESULTS_DIR}gp2ft_m2/{DEV_SET_ID}.outputs_N_ft_gpt2_xl_0.txt\n",
    "    !python errant/commands/corr_from_m2.py {RESULTS_DIR}gp2ft_m2/outputs_{DEV_SET_ID}_ft_gpt2_xl_0.m2 -out {RESULTS_DIR}gp2ft_m2/outputs_{DEV_SET_ID}_ft_gpt2_xl_0.txt\n",
    "    print('*'*50, f\"{RESULTS_DIR}gp2ft_m2/outputs_{DEV_SET_ID}_ft_gpt2_xl_0.txt\", '*'*50, sep='\\n')\n",
    "    !head {RESULTS_DIR}gp2ft_m2/outputs_{DEV_SET_ID}_ft_gpt2_xl_0.txt"
   ]
  },
  {
   "cell_type": "code",
   "execution_count": 6,
   "metadata": {},
   "outputs": [
    {
     "name": "stdout",
     "output_type": "stream",
     "text": [
      "Loading resources...\n",
      "Processing parallel files...\n",
      "Loading resources...\n",
      "Processing parallel files...\n",
      "Loading resources...\n",
      "Processing parallel files...\n",
      "Loading resources...\n",
      "Processing parallel files...\n",
      "Loading resources...\n",
      "Processing parallel files...\n",
      "Loading resources...\n",
      "Processing parallel files...\n",
      "Loading resources...\n",
      "Processing parallel files...\n"
     ]
    }
   ],
   "source": [
    "for DEV_SET_ID in DEV_SET_LIST:\n",
    "    !rm -rf {RESULTS_DIR}gold_m2/{DEV_SET_ID}.dev.gold.bea19.m2\n",
    "    !python errant/commands/parallel_to_m2.py -orig {RESULTS_DIR}dev_txt/{DEV_SET_ID}.dev.bea19.txt -cor {RESULTS_DIR}gold_m2/{DEV_SET_ID}.dev.gold.bea19.txt -out {RESULTS_DIR}gold_m2/{DEV_SET_ID}.dev.gold.bea19.m2\n",
    "    \n",
    "    if DEV_SET_ID == 'N':\n",
    "        continue\n",
    "    !rm -rf {RESULTS_DIR}gp2ft_m2/outputs_{DEV_SET_ID}_ft_gpt2_xl_0.m2\n",
    "    !python errant/commands/parallel_to_m2.py -orig {RESULTS_DIR}dev_txt/{DEV_SET_ID}.dev.bea19.txt -cor {RESULTS_DIR}gp2ft_m2/outputs_{DEV_SET_ID}_ft_gpt2_xl_0.txt -out {RESULTS_DIR}gp2ft_m2/outputs_{DEV_SET_ID}_ft_gpt2_xl_0.m2"
   ]
  },
  {
   "cell_type": "code",
   "execution_count": null,
   "metadata": {},
   "outputs": [],
   "source": []
  }
 ],
 "metadata": {
  "kernelspec": {
   "display_name": "errant",
   "language": "python",
   "name": "python3"
  },
  "language_info": {
   "codemirror_mode": {
    "name": "ipython",
    "version": 3
   },
   "file_extension": ".py",
   "mimetype": "text/x-python",
   "name": "python",
   "nbconvert_exporter": "python",
   "pygments_lexer": "ipython3",
   "version": "3.10.13"
  }
 },
 "nbformat": 4,
 "nbformat_minor": 2
}
